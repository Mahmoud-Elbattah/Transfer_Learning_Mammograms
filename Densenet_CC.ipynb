{
  "nbformat": 4,
  "nbformat_minor": 0,
  "metadata": {
    "colab": {
      "name": "Copy of Densenet_CC.ipynb",
      "provenance": [],
      "collapsed_sections": [],
      "machine_shape": "hm"
    },
    "kernelspec": {
      "name": "python3",
      "display_name": "Python 3"
    },
    "accelerator": "GPU"
  },
  "cells": [
    {
      "cell_type": "code",
      "metadata": {
        "id": "kQ7fZS0oBwzO",
        "colab": {
          "base_uri": "https://localhost:8080/",
          "height": 87
        },
        "outputId": "453aa54c-0831-4b59-d43f-fa6e21077938"
      },
      "source": [
        "import numpy as np\n",
        "from keras.models import Sequential\n",
        "from keras.layers import Dense, Dropout, Activation, Flatten\n",
        "from keras.utils import np_utils\n",
        "from sklearn.model_selection import train_test_split\n",
        "from sklearn.metrics import roc_auc_score,roc_curve,auc\n",
        "from sklearn.model_selection import StratifiedKFold\n",
        "from scipy import interp\n",
        "import pandas as pd\n",
        "from sklearn import preprocessing\n",
        "import matplotlib.pyplot as plt\n",
        "from imblearn.over_sampling import SMOTE\n",
        "import time\n",
        "from collections import Counter\n",
        "from sklearn.metrics import precision_score, recall_score\n",
        "from sklearn.ensemble import RandomForestClassifier"
      ],
      "execution_count": null,
      "outputs": [
        {
          "output_type": "stream",
          "text": [
            "Using TensorFlow backend.\n",
            "/usr/local/lib/python3.6/dist-packages/sklearn/externals/six.py:31: DeprecationWarning: The module is deprecated in version 0.21 and will be removed in version 0.23 since we've dropped support for Python 2.7. Please rely on the official version of six (https://pypi.org/project/six/).\n",
            "  \"(https://pypi.org/project/six/).\", DeprecationWarning)\n"
          ],
          "name": "stderr"
        }
      ]
    },
    {
      "cell_type": "code",
      "metadata": {
        "id": "Oqf2DPfWCWB6",
        "colab": {
          "base_uri": "https://localhost:8080/",
          "height": 34
        },
        "outputId": "4ac9e3cd-f9f2-40e4-ce78-1b7c1c98b467"
      },
      "source": [
        "#Reading features extracted by the DenseNet model\n",
        "df = pd.DataFrame()\n",
        "\n",
        "i = 0\n",
        "for chunk in pd.read_csv('/content/dense_CC.csv', header=None, chunksize=1000, dtype=float):\n",
        "    df = pd.concat([df, chunk], ignore_index=False)\n",
        "    #print(i)\n",
        "    i = i + 1000\n",
        "\n",
        "print(df.shape)"
      ],
      "execution_count": null,
      "outputs": [
        {
          "output_type": "stream",
          "text": [
            "(172032, 2049)\n"
          ],
          "name": "stdout"
        }
      ]
    },
    {
      "cell_type": "code",
      "metadata": {
        "id": "w1ncYijhdpig",
        "colab": {
          "base_uri": "https://localhost:8080/",
          "height": 50
        },
        "outputId": "445f3417-8841-4f14-e1c7-fe6132fe8b59"
      },
      "source": [
        "#Preparing holdout set\n",
        "sampleCount= 1500\n",
        "holdout_pos = df[df[0]==1].sample(n=sampleCount, random_state=42)\n",
        "#print(holdout_pos.head())\n",
        "df = df.drop(holdout_pos.index)\n",
        "\n",
        "sampleCount= 1500\n",
        "holdout_neg = df[df[0]==0].sample(n=sampleCount, random_state=42)\n",
        "df = df.drop(holdout_neg.index)\n",
        "\n",
        "holdout = pd.concat([holdout_pos, holdout_neg])\n",
        "\n",
        "print(df.shape)\n",
        "print(holdout.shape)"
      ],
      "execution_count": null,
      "outputs": [
        {
          "output_type": "stream",
          "text": [
            "(169032, 2049)\n",
            "(3000, 2049)\n"
          ],
          "name": "stdout"
        }
      ]
    },
    {
      "cell_type": "code",
      "metadata": {
        "id": "MHkhzucCjlTP",
        "colab": {
          "base_uri": "https://localhost:8080/",
          "height": 34
        },
        "outputId": "c05500f5-b621-41ed-ead5-355424eba286"
      },
      "source": [
        "X_test = holdout.iloc[:, 1:].values\n",
        "y_test = holdout[0].values\n",
        "print(Counter(y_test))\n",
        "\n",
        "X_test = preprocessing.MinMaxScaler().fit_transform(X_test)"
      ],
      "execution_count": null,
      "outputs": [
        {
          "output_type": "stream",
          "text": [
            "Counter({1.0: 1500, 0.0: 1500})\n"
          ],
          "name": "stdout"
        }
      ]
    },
    {
      "cell_type": "code",
      "metadata": {
        "id": "TA9LrjeHmtJD",
        "colab": {
          "base_uri": "https://localhost:8080/",
          "height": 67
        },
        "outputId": "c44e6d83-7da6-45b8-da1a-dcac3583965e"
      },
      "source": [
        "negCount = 10000\n",
        "#Preparing train set\n",
        "posSet = df[df[0]==1]\n",
        "print(posSet.shape)\n",
        "##############\n",
        "from sklearn.utils import resample\n",
        "# upsample minority\n",
        "posSet = resample(posSet,\n",
        "                          replace=True, # sample with replacement\n",
        "                          n_samples=10000, # match number in majority class\n",
        "                          random_state=42) # reproducible results\n",
        "##############################\n",
        "negSet= df[df[0]==0].sample(n=negCount, random_state=42)\n",
        "print(negSet.shape)\n",
        "\n",
        "dfTrain = pd.concat([posSet,negSet])\n",
        "print(dfTrain.shape)"
      ],
      "execution_count": null,
      "outputs": [
        {
          "output_type": "stream",
          "text": [
            "(4536, 2049)\n",
            "(10000, 2049)\n",
            "(20000, 2049)\n"
          ],
          "name": "stdout"
        }
      ]
    },
    {
      "cell_type": "code",
      "metadata": {
        "id": "QiGUAFS5oGld",
        "colab": {
          "base_uri": "https://localhost:8080/",
          "height": 34
        },
        "outputId": "311e3d80-c0c5-4c02-a40c-d1d1b3cd541d"
      },
      "source": [
        "X_train = dfTrain.iloc[:, 1:].values\n",
        "y_train = dfTrain[0].values\n",
        "print(Counter(y_train))\n",
        "\n",
        "#Scaling features\n",
        "X_train= preprocessing.MinMaxScaler().fit_transform(X_train)"
      ],
      "execution_count": null,
      "outputs": [
        {
          "output_type": "stream",
          "text": [
            "Counter({1.0: 10000, 0.0: 10000})\n"
          ],
          "name": "stdout"
        }
      ]
    },
    {
      "cell_type": "code",
      "metadata": {
        "id": "Bd3IdVNJqTbL"
      },
      "source": [
        "#balancing dataset\n",
        "sm = SMOTE(random_state=42)\n",
        "X_train, y_train = sm.fit_resample(X_train, y_train)\n",
        "print(X_train.shape)"
      ],
      "execution_count": null,
      "outputs": []
    },
    {
      "cell_type": "code",
      "metadata": {
        "id": "eKmRrna0Qrte"
      },
      "source": [
        "nEpochs = 10\n",
        "nBatch= 32\n",
        "inputDim = X_train.shape[1] # Count of features"
      ],
      "execution_count": null,
      "outputs": []
    },
    {
      "cell_type": "code",
      "metadata": {
        "id": "PGECJEWMGgqD"
      },
      "source": [
        "model = Sequential()\n",
        "model.add(Dense(256, input_dim=inputDim, activation='relu'))\n",
        "model.add(Dropout(0.1))\n",
        "model.add(Dense(128, activation='relu'))\n",
        "model.add(Dropout(0.2))\n",
        "model.add(Dense(1, activation='sigmoid'))\n",
        "\n",
        "\n",
        "#model.summary()"
      ],
      "execution_count": null,
      "outputs": []
    },
    {
      "cell_type": "code",
      "metadata": {
        "id": "8YxdbkHGHPNT",
        "colab": {
          "base_uri": "https://localhost:8080/",
          "height": 406
        },
        "outputId": "66514f4a-e1a1-4269-cb58-4ee0d30da2f1"
      },
      "source": [
        "model.compile(loss='binary_crossentropy', \n",
        "              optimizer='adam',\n",
        "              metrics=['accuracy'])\n",
        "\n",
        "# Fiting the model \n",
        "model.fit(X_train, y_train,\n",
        "          validation_split=0.2, \n",
        "          epochs=nEpochs, \n",
        "          batch_size=nBatch,\n",
        "          verbose=1)"
      ],
      "execution_count": null,
      "outputs": [
        {
          "output_type": "stream",
          "text": [
            "Train on 16000 samples, validate on 4000 samples\n",
            "Epoch 1/10\n",
            "16000/16000 [==============================] - 7s 449us/step - loss: 0.6227 - acc: 0.6711 - val_loss: 0.7925 - val_acc: 0.4517\n",
            "Epoch 2/10\n",
            "16000/16000 [==============================] - 5s 290us/step - loss: 0.5942 - acc: 0.6950 - val_loss: 1.0111 - val_acc: 0.4400\n",
            "Epoch 3/10\n",
            "16000/16000 [==============================] - 5s 289us/step - loss: 0.5782 - acc: 0.7117 - val_loss: 0.8590 - val_acc: 0.4970\n",
            "Epoch 4/10\n",
            "16000/16000 [==============================] - 5s 288us/step - loss: 0.5663 - acc: 0.7176 - val_loss: 0.9024 - val_acc: 0.4893\n",
            "Epoch 5/10\n",
            "16000/16000 [==============================] - 5s 290us/step - loss: 0.5596 - acc: 0.7240 - val_loss: 0.9998 - val_acc: 0.4627\n",
            "Epoch 6/10\n",
            "16000/16000 [==============================] - 5s 290us/step - loss: 0.5554 - acc: 0.7223 - val_loss: 0.6436 - val_acc: 0.6105\n",
            "Epoch 7/10\n",
            "16000/16000 [==============================] - 5s 288us/step - loss: 0.5481 - acc: 0.7301 - val_loss: 0.7855 - val_acc: 0.5228\n",
            "Epoch 8/10\n",
            "16000/16000 [==============================] - 5s 287us/step - loss: 0.5447 - acc: 0.7266 - val_loss: 0.8179 - val_acc: 0.5028\n",
            "Epoch 9/10\n",
            "16000/16000 [==============================] - 5s 287us/step - loss: 0.5416 - acc: 0.7311 - val_loss: 0.9125 - val_acc: 0.5268\n",
            "Epoch 10/10\n",
            "16000/16000 [==============================] - 5s 289us/step - loss: 0.5349 - acc: 0.7369 - val_loss: 0.8747 - val_acc: 0.4988\n"
          ],
          "name": "stdout"
        },
        {
          "output_type": "execute_result",
          "data": {
            "text/plain": [
              "<keras.callbacks.History at 0x7fddd6b48ba8>"
            ]
          },
          "metadata": {
            "tags": []
          },
          "execution_count": 240
        }
      ]
    },
    {
      "cell_type": "code",
      "metadata": {
        "id": "49jd3kJaHVLt",
        "colab": {
          "base_uri": "https://localhost:8080/",
          "height": 50
        },
        "outputId": "b544f0a9-02fb-452c-9a1c-85c6d66f5c23"
      },
      "source": [
        "model.evaluate(x=X_test, y=y_test, verbose=1)"
      ],
      "execution_count": null,
      "outputs": [
        {
          "output_type": "stream",
          "text": [
            "3000/3000 [==============================] - 0s 84us/step\n"
          ],
          "name": "stdout"
        },
        {
          "output_type": "execute_result",
          "data": {
            "text/plain": [
              "[0.6362204546928406, 0.6756666666666666]"
            ]
          },
          "metadata": {
            "tags": []
          },
          "execution_count": 241
        }
      ]
    },
    {
      "cell_type": "code",
      "metadata": {
        "id": "VJvINlUFeard"
      },
      "source": [
        "predictions =model.predict(X_test)"
      ],
      "execution_count": null,
      "outputs": []
    },
    {
      "cell_type": "code",
      "metadata": {
        "id": "ExG8q_GnHW0s",
        "colab": {
          "base_uri": "https://localhost:8080/",
          "height": 34
        },
        "outputId": "09d92ceb-c3b2-4087-9b2b-dd1624cf642a"
      },
      "source": [
        "AUC = roc_auc_score(y_test, model.predict(X_test))\n",
        "print(AUC)"
      ],
      "execution_count": null,
      "outputs": [
        {
          "output_type": "stream",
          "text": [
            "0.7460977777777777\n"
          ],
          "name": "stdout"
        }
      ]
    },
    {
      "cell_type": "code",
      "metadata": {
        "id": "_a_5mt4dzpFG",
        "colab": {
          "base_uri": "https://localhost:8080/",
          "height": 34
        },
        "outputId": "a3c323aa-b5e4-452e-e523-2749d91aeca9"
      },
      "source": [
        "#The recall is intuitively the ability of the classifier to find all the positive samples\n",
        "print(\"Recall:\", recall_score(y_test, predictions.round()))"
      ],
      "execution_count": null,
      "outputs": [
        {
          "output_type": "stream",
          "text": [
            "Recall: 0.828\n"
          ],
          "name": "stdout"
        }
      ]
    },
    {
      "cell_type": "code",
      "metadata": {
        "id": "glieJQV70e-e",
        "colab": {
          "base_uri": "https://localhost:8080/",
          "height": 34
        },
        "outputId": "3f512baf-f79a-4757-c2db-c8b16902e386"
      },
      "source": [
        "print(\"Precision:\", precision_score(y_test, predictions.round()))"
      ],
      "execution_count": null,
      "outputs": [
        {
          "output_type": "stream",
          "text": [
            "Precision: 0.6346448645886561\n"
          ],
          "name": "stdout"
        }
      ]
    },
    {
      "cell_type": "code",
      "metadata": {
        "id": "oa_v_Y75ue-j",
        "colab": {
          "base_uri": "https://localhost:8080/",
          "height": 295
        },
        "outputId": "71f851ca-b483-4520-dad3-e47088f0bf92"
      },
      "source": [
        "tprs = []\n",
        "aucs = []\n",
        "mean_fpr = np.linspace(0, 1, 100)\n",
        " \n",
        "fpr, tpr, thresholds = roc_curve(y_test, predictions)\n",
        "\n",
        "tprs.append(interp(mean_fpr, fpr, tpr))\n",
        "tprs[-1][0] = 0.0\n",
        "\n",
        "# Drawing line from origin represnting random predictions\n",
        "plt.plot([0, 1], [0, 1], linestyle='--', lw=2, color='black',alpha=0.2)\n",
        "\n",
        "#Adding to ROC plot\n",
        "mean_tpr = np.mean(tprs, axis=0)\n",
        "mean_tpr[-1] = 1.0\n",
        "mean_auc = auc(mean_fpr, mean_tpr)\n",
        "\n",
        "plt.plot(mean_fpr, mean_tpr, color='blue',\n",
        "         label=r'(AUC≈%0.2f)' % (mean_auc),\n",
        "         lw=2, alpha=0.8)\n",
        "\n",
        "\n",
        "plt.xlabel('False Positive Rate')\n",
        "plt.ylabel('True Positive Rate')\n",
        "plt.legend(loc=\"lower right\")\n",
        "plt.title('ROC Curve')\n",
        "plt.show()\n"
      ],
      "execution_count": null,
      "outputs": [
        {
          "output_type": "display_data",
          "data": {
            "image/png": "[encoded data removed]",
            "text/plain": [
              "<Figure size 432x288 with 1 Axes>"
            ]
          },
          "metadata": {
            "tags": []
          }
        }
      ]
    }
  ]
}